{
 "cells": [
  {
   "cell_type": "markdown",
   "metadata": {},
   "source": [
    "# Análise inicial Base de dados"
   ]
  },
  {
   "cell_type": "code",
   "execution_count": 2,
   "metadata": {},
   "outputs": [],
   "source": [
    "import pandas as pd\n",
    "from sklearn.model_selection import train_test_split\n",
    "from rapidfuzz import fuzz\n",
    "from rapidfuzz import process"
   ]
  },
  {
   "cell_type": "markdown",
   "metadata": {},
   "source": [
    "## FA-KES"
   ]
  },
  {
   "cell_type": "code",
   "execution_count": 1,
   "metadata": {},
   "outputs": [
    {
     "ename": "NameError",
     "evalue": "name 'pd' is not defined",
     "output_type": "error",
     "traceback": [
      "\u001b[1;31m---------------------------------------------------------------------------\u001b[0m",
      "\u001b[1;31mNameError\u001b[0m                                 Traceback (most recent call last)",
      "Cell \u001b[1;32mIn[1], line 1\u001b[0m\n\u001b[1;32m----> 1\u001b[0m df_fakes \u001b[38;5;241m=\u001b[39m \u001b[43mpd\u001b[49m\u001b[38;5;241m.\u001b[39mread_csv(\u001b[38;5;124m'\u001b[39m\u001b[38;5;124mbases_externas/fakes.csv\u001b[39m\u001b[38;5;124m'\u001b[39m, encoding\u001b[38;5;241m=\u001b[39m\u001b[38;5;124m'\u001b[39m\u001b[38;5;124mISO-8859-1\u001b[39m\u001b[38;5;124m'\u001b[39m)\n",
      "\u001b[1;31mNameError\u001b[0m: name 'pd' is not defined"
     ]
    }
   ],
   "source": [
    "df_fakes = pd.read_csv('bases_externas/fakes.csv', encoding='ISO-8859-1')"
   ]
  },
  {
   "cell_type": "code",
   "execution_count": 33,
   "metadata": {},
   "outputs": [],
   "source": [
    "# Verificando duplicatas\n",
    "df_fakes.drop_duplicates(subset='article_content', inplace = True)"
   ]
  },
  {
   "cell_type": "code",
   "execution_count": 34,
   "metadata": {},
   "outputs": [],
   "source": [
    "df_fakes.reset_index(drop = True, inplace = True)"
   ]
  },
  {
   "cell_type": "code",
   "execution_count": 35,
   "metadata": {},
   "outputs": [
    {
     "name": "stdout",
     "output_type": "stream",
     "text": [
      "Notícia 2 e Notícia 138 são similares (85.14129443938012%)\n",
      "Notícia 3 e Notícia 136 são similares (96.61229611041405%)\n",
      "Notícia 7 e Notícia 189 são similares (93.21988114532685%)\n",
      "Notícia 9 e Notícia 311 são similares (95.22799575821846%)\n",
      "Notícia 17 e Notícia 177 são similares (93.42806394316163%)\n",
      "Notícia 39 e Notícia 348 são similares (88.53717026378897%)\n",
      "Notícia 44 e Notícia 371 são similares (90.91806515301086%)\n",
      "Notícia 45 e Notícia 370 são similares (97.492209526636%)\n",
      "Notícia 47 e Notícia 316 são similares (81.7907604381648%)\n",
      "Notícia 83 e Notícia 146 são similares (89.88007574163686%)\n",
      "Notícia 92 e Notícia 254 são similares (88.03672697812584%)\n",
      "Notícia 100 e Notícia 258 são similares (92.8011075219197%)\n",
      "Notícia 114 e Notícia 233 são similares (86.28613787991104%)\n",
      "Notícia 114 e Notícia 291 são similares (85.01164897747864%)\n",
      "Notícia 122 e Notícia 239 são similares (87.11314053779807%)\n",
      "Notícia 130 e Notícia 228 são similares (82.86641108817459%)\n",
      "Notícia 147 e Notícia 543 são similares (94.86205517792882%)\n",
      "Notícia 150 e Notícia 625 são similares (95.59300064808815%)\n",
      "Notícia 178 e Notícia 294 são similares (86.55151141270821%)\n",
      "Notícia 186 e Notícia 297 são similares (88.892606222817%)\n",
      "Notícia 204 e Notícia 364 são similares (85.36036036036036%)\n",
      "Notícia 233 e Notícia 291 são similares (91.6080129940444%)\n",
      "Notícia 236 e Notícia 300 são similares (97.4044360547428%)\n",
      "Notícia 289 e Notícia 290 são similares (99.9221270441651%)\n",
      "Notícia 292 e Notícia 299 são similares (99.82995125269244%)\n",
      "Notícia 339 e Notícia 369 são similares (99.12343046671404%)\n",
      "Notícia 402 e Notícia 417 são similares (97.18032786885246%)\n",
      "Notícia 403 e Notícia 425 são similares (97.46514575411915%)\n",
      "Notícia 404 e Notícia 518 são similares (99.97953754859832%)\n",
      "Notícia 405 e Notícia 471 são similares (99.74919383733429%)\n",
      "Notícia 406 e Notícia 473 são similares (99.74792942023767%)\n",
      "Notícia 407 e Notícia 434 são similares (97.88007268322228%)\n",
      "Notícia 482 e Notícia 483 são similares (99.45102571511124%)\n",
      "Notícia 529 e Notícia 613 são similares (85.16612072999533%)\n",
      "Notícia 752 e Notícia 754 são similares (93.65664403491756%)\n",
      "Notícia 752 e Notícia 755 são similares (99.46140035906643%)\n",
      "Notícia 754 e Notícia 755 são similares (93.43179168286048%)\n"
     ]
    }
   ],
   "source": [
    "# Verificando noticias extremamente similares  \n",
    "indices_para_remover = set()\n",
    "for i, noticia in enumerate(df_fakes['article_content']):\n",
    "    for j, comparacao in enumerate(df_fakes['article_content']):\n",
    "        if i < j:  # Evitar duplicação de comparações\n",
    "            similaridade = fuzz.ratio(noticia, comparacao)\n",
    "            if similaridade > 80:  # Similaridade acima de 90%\n",
    "                print(f\"Notícia {i} e Notícia {j} são similares ({similaridade}%)\")\n",
    "                indices_para_remover.add(j)"
   ]
  },
  {
   "cell_type": "code",
   "execution_count": 36,
   "metadata": {},
   "outputs": [],
   "source": [
    "df_fakes.drop(indices_para_remover, inplace = True)"
   ]
  },
  {
   "cell_type": "code",
   "execution_count": 38,
   "metadata": {},
   "outputs": [],
   "source": [
    "df_fakes = df_fakes.sample(400, random_state= 13)"
   ]
  },
  {
   "cell_type": "code",
   "execution_count": 39,
   "metadata": {},
   "outputs": [],
   "source": [
    "X = df_fakes[['unit_id','article_title','article_content','source','date']]\n",
    "y = df_fakes.label"
   ]
  },
  {
   "cell_type": "code",
   "execution_count": 40,
   "metadata": {},
   "outputs": [],
   "source": [
    "# Separando os dados em treino e teste\n",
    "X_train, X_test, y_train, y_test = train_test_split(X, y, test_size=0.3, random_state=13)"
   ]
  },
  {
   "cell_type": "code",
   "execution_count": 41,
   "metadata": {},
   "outputs": [],
   "source": [
    "# Exportando base de treino\n",
    "X_train.to_csv('data/X_train_fakes.csv', index = False)\n",
    "y_train.to_csv('data/y_train_fakes.csv', index = False)\n",
    "\n",
    "# Exportando base de teste\n",
    "X_test.to_csv('data/X_test_fakes.csv', index = False)\n",
    "y_test.to_csv('data/y_test_fakes.csv', index = False)"
   ]
  },
  {
   "cell_type": "code",
   "execution_count": 42,
   "metadata": {},
   "outputs": [
    {
     "data": {
      "text/plain": [
       "label\n",
       "1    203\n",
       "0    197\n",
       "Name: count, dtype: int64"
      ]
     },
     "execution_count": 42,
     "metadata": {},
     "output_type": "execute_result"
    }
   ],
   "source": [
    "df_fakes.label.value_counts()"
   ]
  },
  {
   "cell_type": "markdown",
   "metadata": {},
   "source": [
    "# Fake.br-Corpus"
   ]
  },
  {
   "cell_type": "code",
   "execution_count": 3,
   "metadata": {},
   "outputs": [],
   "source": [
    "df_fakebr = pd.read_csv('bases_externas/fakebr.csv')\n",
    "df_truebr = pd.read_csv('bases_externas/truebr.csv')"
   ]
  },
  {
   "cell_type": "code",
   "execution_count": 4,
   "metadata": {},
   "outputs": [],
   "source": [
    "# Verificando duplicatas\n",
    "df_fakebr.drop_duplicates(subset='id', inplace = True)\n",
    "df_truebr.drop_duplicates(subset='id', inplace = True)"
   ]
  },
  {
   "cell_type": "code",
   "execution_count": 5,
   "metadata": {},
   "outputs": [],
   "source": [
    "df_fakebr['label'] = 0\n",
    "df_truebr['label'] = 1"
   ]
  },
  {
   "cell_type": "code",
   "execution_count": 6,
   "metadata": {},
   "outputs": [],
   "source": [
    "df_br = pd.concat([df_fakebr, df_truebr], ignore_index=True)"
   ]
  },
  {
   "cell_type": "code",
   "execution_count": 7,
   "metadata": {},
   "outputs": [],
   "source": [
    "# Verificando noticias extremamente similares  \n",
    "indices_para_remover = set()\n",
    "for i, noticia in enumerate(df_br['text']):\n",
    "    for j, comparacao in enumerate(df_br['text']):\n",
    "        if i < j:  # Evitar duplicação de comparações\n",
    "            similaridade = fuzz.ratio(noticia, comparacao)\n",
    "            if similaridade > 80:  # Similaridade acima de 80%\n",
    "                print(f\"Notícia {i} e Notícia {j} são similares ({similaridade}%)\")\n",
    "                indices_para_remover.add(j)"
   ]
  },
  {
   "cell_type": "code",
   "execution_count": 8,
   "metadata": {},
   "outputs": [],
   "source": [
    "df_br.drop(indices_para_remover, inplace = True)"
   ]
  },
  {
   "cell_type": "code",
   "execution_count": 9,
   "metadata": {},
   "outputs": [],
   "source": [
    "df_br.rename(columns={'text':'article_content', 'link':'source'}, inplace=True)"
   ]
  },
  {
   "cell_type": "code",
   "execution_count": 10,
   "metadata": {},
   "outputs": [],
   "source": [
    "df_br = df_br[['id', 'article_content', 'author', 'source', 'category', 'date_of_publication', 'label']]"
   ]
  },
  {
   "cell_type": "code",
   "execution_count": 11,
   "metadata": {},
   "outputs": [
    {
     "data": {
      "text/plain": [
       "label\n",
       "0    200\n",
       "1    200\n",
       "Name: count, dtype: int64"
      ]
     },
     "execution_count": 11,
     "metadata": {},
     "output_type": "execute_result"
    }
   ],
   "source": [
    "df_br.label.value_counts()"
   ]
  },
  {
   "cell_type": "code",
   "execution_count": 12,
   "metadata": {},
   "outputs": [],
   "source": [
    "X = df_br[['id','article_content','author','source','category','date_of_publication']]\n",
    "y = df_br.label"
   ]
  },
  {
   "cell_type": "code",
   "execution_count": 13,
   "metadata": {},
   "outputs": [],
   "source": [
    "X_train, X_test, y_train, y_test = train_test_split(X, y, test_size=0.3, random_state=13)"
   ]
  },
  {
   "cell_type": "code",
   "execution_count": 14,
   "metadata": {},
   "outputs": [],
   "source": [
    "# Exportando base de treino\n",
    "X_train.to_csv('data/X_train_fakebr.csv', index = False)\n",
    "y_train.to_csv('data/y_train_fakebr.csv', index = False)\n",
    "\n",
    "# Exportando base de teste\n",
    "X_test.to_csv('data/X_test_fakebr.csv', index = False)\n",
    "y_test.to_csv('data/y_test_fakebr.csv', index = False)"
   ]
  }
 ],
 "metadata": {
  "kernelspec": {
   "display_name": ".venv",
   "language": "python",
   "name": "python3"
  },
  "language_info": {
   "codemirror_mode": {
    "name": "ipython",
    "version": 3
   },
   "file_extension": ".py",
   "mimetype": "text/x-python",
   "name": "python",
   "nbconvert_exporter": "python",
   "pygments_lexer": "ipython3",
   "version": "3.13.1"
  }
 },
 "nbformat": 4,
 "nbformat_minor": 2
}
