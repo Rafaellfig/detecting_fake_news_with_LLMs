{
 "cells": [
  {
   "cell_type": "markdown",
   "metadata": {},
   "source": [
    "# Análise inicial Base de dados"
   ]
  },
  {
   "cell_type": "code",
   "execution_count": 1,
   "metadata": {},
   "outputs": [],
   "source": [
    "import pandas as pd\n",
    "from sklearn.model_selection import train_test_split"
   ]
  },
  {
   "cell_type": "markdown",
   "metadata": {},
   "source": [
    "## FA-KES"
   ]
  },
  {
   "cell_type": "code",
   "execution_count": 2,
   "metadata": {},
   "outputs": [],
   "source": [
    "df_fakes = pd.read_csv('input/fakes.csv', encoding='ISO-8859-1')"
   ]
  },
  {
   "cell_type": "code",
   "execution_count": 3,
   "metadata": {},
   "outputs": [],
   "source": [
    "y = df_fakes.label"
   ]
  },
  {
   "cell_type": "code",
   "execution_count": 4,
   "metadata": {},
   "outputs": [],
   "source": [
    "X = df_fakes[['unit_id','article_title','article_content','source','date']]"
   ]
  },
  {
   "cell_type": "code",
   "execution_count": 5,
   "metadata": {},
   "outputs": [],
   "source": [
    "X_train, X_test, y_train, y_test = train_test_split(X, y, test_size=0.3, random_state=13)"
   ]
  },
  {
   "cell_type": "code",
   "execution_count": 6,
   "metadata": {},
   "outputs": [],
   "source": [
    "#X_train.to_csv('data/X_train_fakes.csv', index = False)"
   ]
  },
  {
   "cell_type": "code",
   "execution_count": 7,
   "metadata": {},
   "outputs": [],
   "source": [
    "y_train.to_csv('data/y_train_fakes.csv', index = False)"
   ]
  },
  {
   "cell_type": "code",
   "execution_count": 8,
   "metadata": {},
   "outputs": [
    {
     "data": {
      "text/plain": [
       "label\n",
       "1    294\n",
       "0    268\n",
       "Name: count, dtype: int64"
      ]
     },
     "execution_count": 8,
     "metadata": {},
     "output_type": "execute_result"
    }
   ],
   "source": [
    "y_train.value_counts()"
   ]
  },
  {
   "cell_type": "markdown",
   "metadata": {},
   "source": [
    "## EUvsDisinfo"
   ]
  },
  {
   "cell_type": "code",
   "execution_count": 9,
   "metadata": {},
   "outputs": [],
   "source": [
    "df_eu = pd.read_csv('data_euvsdisinfo/out.csv')"
   ]
  },
  {
   "cell_type": "code",
   "execution_count": 10,
   "metadata": {},
   "outputs": [
    {
     "data": {
      "text/html": [
       "<div>\n",
       "<style scoped>\n",
       "    .dataframe tbody tr th:only-of-type {\n",
       "        vertical-align: middle;\n",
       "    }\n",
       "\n",
       "    .dataframe tbody tr th {\n",
       "        vertical-align: top;\n",
       "    }\n",
       "\n",
       "    .dataframe thead th {\n",
       "        text-align: right;\n",
       "    }\n",
       "</style>\n",
       "<table border=\"1\" class=\"dataframe\">\n",
       "  <thead>\n",
       "    <tr style=\"text-align: right;\">\n",
       "      <th></th>\n",
       "      <th>id</th>\n",
       "      <th>publication</th>\n",
       "      <th>archive</th>\n",
       "    </tr>\n",
       "  </thead>\n",
       "  <tbody>\n",
       "    <tr>\n",
       "      <th>0</th>\n",
       "      <td>https://euvsdisinfo.eu/report/the-german-elite...</td>\n",
       "      <td>https://tsargrad.tv/articles/rossija-dolzhna-z...</td>\n",
       "      <td>http://app.cappture.cc/snapshots/1eb7061d-eb88...</td>\n",
       "    </tr>\n",
       "    <tr>\n",
       "      <th>1</th>\n",
       "      <td>https://euvsdisinfo.eu/report/in-europe-the-st...</td>\n",
       "      <td>https://tsargrad.tv/articles/rossija-dolzhna-z...</td>\n",
       "      <td>http://app.cappture.cc/snapshots/1eb705a6-b156...</td>\n",
       "    </tr>\n",
       "    <tr>\n",
       "      <th>2</th>\n",
       "      <td>https://euvsdisinfo.eu/report/finland-is-attem...</td>\n",
       "      <td>https://riafan.ru/1389116-finlyandiya-ispolzuy...</td>\n",
       "      <td>http://app.cappture.cc/snapshots/1eb70fe7-9e5b...</td>\n",
       "    </tr>\n",
       "    <tr>\n",
       "      <th>3</th>\n",
       "      <td>https://euvsdisinfo.eu/report/finland-is-attem...</td>\n",
       "      <td>https://mvlehti.net/2021/02/16/venajan-media-h...</td>\n",
       "      <td>http://app.cappture.cc/snapshots/1eb70ff7-5ae0...</td>\n",
       "    </tr>\n",
       "    <tr>\n",
       "      <th>4</th>\n",
       "      <td>https://euvsdisinfo.eu/report/ukraine-and-swed...</td>\n",
       "      <td>https://swedinfo.ru/novosti-stokgolma/3573-shv...</td>\n",
       "      <td>http://app.cappture.cc/snapshots/1eb6fc3f-c6f9...</td>\n",
       "    </tr>\n",
       "    <tr>\n",
       "      <th>...</th>\n",
       "      <td>...</td>\n",
       "      <td>...</td>\n",
       "      <td>...</td>\n",
       "    </tr>\n",
       "    <tr>\n",
       "      <th>20020</th>\n",
       "      <td>https://euvsdisinfo.eu/report/the-us-interfere...</td>\n",
       "      <td>https://youtube.com/watch?v=LbsN7x_pBws&amp;t=211</td>\n",
       "      <td>http://app.cappture.cc/snapshots/1eb65210-c9ca...</td>\n",
       "    </tr>\n",
       "    <tr>\n",
       "      <th>20021</th>\n",
       "      <td>https://euvsdisinfo.eu/report/there-is-no-unit...</td>\n",
       "      <td>https://youtube.com/watch?v=69ZamC4rQ-A&amp;t=939</td>\n",
       "      <td>http://app.cappture.cc/snapshots/1eb5a35f-c6d0...</td>\n",
       "    </tr>\n",
       "    <tr>\n",
       "      <th>20022</th>\n",
       "      <td>https://euvsdisinfo.eu/report/psaking-became-a...</td>\n",
       "      <td>https://vesti7.ru/article/2491938/episode/29-1...</td>\n",
       "      <td>http://app.cappture.cc/snapshots/1eb33841-66d8...</td>\n",
       "    </tr>\n",
       "    <tr>\n",
       "      <th>20023</th>\n",
       "      <td>https://euvsdisinfo.eu/report/us-and-nato-offi...</td>\n",
       "      <td>http://katyusha.org/view?id=9328</td>\n",
       "      <td>NaN</td>\n",
       "    </tr>\n",
       "    <tr>\n",
       "      <th>20024</th>\n",
       "      <td>https://euvsdisinfo.eu/report/a-well-known-cho...</td>\n",
       "      <td>https://russia.tv/video/show/brand_id/58500/ep...</td>\n",
       "      <td>NaN</td>\n",
       "    </tr>\n",
       "  </tbody>\n",
       "</table>\n",
       "<p>20025 rows × 3 columns</p>\n",
       "</div>"
      ],
      "text/plain": [
       "                                                      id  \\\n",
       "0      https://euvsdisinfo.eu/report/the-german-elite...   \n",
       "1      https://euvsdisinfo.eu/report/in-europe-the-st...   \n",
       "2      https://euvsdisinfo.eu/report/finland-is-attem...   \n",
       "3      https://euvsdisinfo.eu/report/finland-is-attem...   \n",
       "4      https://euvsdisinfo.eu/report/ukraine-and-swed...   \n",
       "...                                                  ...   \n",
       "20020  https://euvsdisinfo.eu/report/the-us-interfere...   \n",
       "20021  https://euvsdisinfo.eu/report/there-is-no-unit...   \n",
       "20022  https://euvsdisinfo.eu/report/psaking-became-a...   \n",
       "20023  https://euvsdisinfo.eu/report/us-and-nato-offi...   \n",
       "20024  https://euvsdisinfo.eu/report/a-well-known-cho...   \n",
       "\n",
       "                                             publication  \\\n",
       "0      https://tsargrad.tv/articles/rossija-dolzhna-z...   \n",
       "1      https://tsargrad.tv/articles/rossija-dolzhna-z...   \n",
       "2      https://riafan.ru/1389116-finlyandiya-ispolzuy...   \n",
       "3      https://mvlehti.net/2021/02/16/venajan-media-h...   \n",
       "4      https://swedinfo.ru/novosti-stokgolma/3573-shv...   \n",
       "...                                                  ...   \n",
       "20020      https://youtube.com/watch?v=LbsN7x_pBws&t=211   \n",
       "20021      https://youtube.com/watch?v=69ZamC4rQ-A&t=939   \n",
       "20022  https://vesti7.ru/article/2491938/episode/29-1...   \n",
       "20023                   http://katyusha.org/view?id=9328   \n",
       "20024  https://russia.tv/video/show/brand_id/58500/ep...   \n",
       "\n",
       "                                                 archive  \n",
       "0      http://app.cappture.cc/snapshots/1eb7061d-eb88...  \n",
       "1      http://app.cappture.cc/snapshots/1eb705a6-b156...  \n",
       "2      http://app.cappture.cc/snapshots/1eb70fe7-9e5b...  \n",
       "3      http://app.cappture.cc/snapshots/1eb70ff7-5ae0...  \n",
       "4      http://app.cappture.cc/snapshots/1eb6fc3f-c6f9...  \n",
       "...                                                  ...  \n",
       "20020  http://app.cappture.cc/snapshots/1eb65210-c9ca...  \n",
       "20021  http://app.cappture.cc/snapshots/1eb5a35f-c6d0...  \n",
       "20022  http://app.cappture.cc/snapshots/1eb33841-66d8...  \n",
       "20023                                                NaN  \n",
       "20024                                                NaN  \n",
       "\n",
       "[20025 rows x 3 columns]"
      ]
     },
     "execution_count": 10,
     "metadata": {},
     "output_type": "execute_result"
    }
   ],
   "source": [
    "pd.read_csv('data_euvsdisinfo/publications.csv')"
   ]
  },
  {
   "cell_type": "code",
   "execution_count": null,
   "metadata": {},
   "outputs": [],
   "source": []
  }
 ],
 "metadata": {
  "kernelspec": {
   "display_name": ".venv",
   "language": "python",
   "name": "python3"
  },
  "language_info": {
   "codemirror_mode": {
    "name": "ipython",
    "version": 3
   },
   "file_extension": ".py",
   "mimetype": "text/x-python",
   "name": "python",
   "nbconvert_exporter": "python",
   "pygments_lexer": "ipython3",
   "version": "3.13.1"
  }
 },
 "nbformat": 4,
 "nbformat_minor": 2
}
