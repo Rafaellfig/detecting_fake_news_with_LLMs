{
 "cells": [
  {
   "cell_type": "markdown",
   "metadata": {},
   "source": [
    "# Análise Zero Shot"
   ]
  },
  {
   "cell_type": "markdown",
   "metadata": {},
   "source": [
    "## FA-KES"
   ]
  },
  {
   "cell_type": "code",
   "execution_count": 1,
   "metadata": {},
   "outputs": [],
   "source": [
    "import pandas as pd\n",
    "from sklearn.metrics import confusion_matrix, accuracy_score, precision_score, recall_score, f1_score, classification_report, ConfusionMatrixDisplay"
   ]
  },
  {
   "cell_type": "code",
   "execution_count": 2,
   "metadata": {},
   "outputs": [],
   "source": [
    "y_predicted = pd.read_csv('../../results/results_zero_shot_fakes_test.csv')\n",
    "y_train = pd.read_csv('../../data/y_test_fakes.csv')"
   ]
  },
  {
   "cell_type": "code",
   "execution_count": 3,
   "metadata": {},
   "outputs": [],
   "source": [
    "y_predicted.rename(columns={'label':'predicted'}, inplace= True)"
   ]
  },
  {
   "cell_type": "code",
   "execution_count": 4,
   "metadata": {},
   "outputs": [],
   "source": [
    "# 0 FAKE \n",
    "# 1 REAL\n",
    "results_map = {'YES\\n': 0, 'NO\\n': 1}"
   ]
  },
  {
   "cell_type": "code",
   "execution_count": 5,
   "metadata": {},
   "outputs": [],
   "source": [
    "df = pd.concat([y_predicted, y_train], axis=1)"
   ]
  },
  {
   "cell_type": "code",
   "execution_count": 6,
   "metadata": {},
   "outputs": [],
   "source": [
    "df.predicted = df.predicted.map(results_map)"
   ]
  },
  {
   "cell_type": "code",
   "execution_count": 7,
   "metadata": {},
   "outputs": [
    {
     "name": "stdout",
     "output_type": "stream",
     "text": [
      "\n",
      "Relatório de Classificação:\n",
      "               precision    recall  f1-score   support\n",
      "\n",
      "           0       0.51      0.63      0.56        62\n",
      "           1       0.47      0.34      0.40        58\n",
      "\n",
      "    accuracy                           0.49       120\n",
      "   macro avg       0.49      0.49      0.48       120\n",
      "weighted avg       0.49      0.49      0.48       120\n",
      "\n"
     ]
    }
   ],
   "source": [
    "print(\"\\nRelatório de Classificação:\\n\", classification_report(df.label, df.predicted))"
   ]
  },
  {
   "cell_type": "markdown",
   "metadata": {},
   "source": [
    "## Matriz de Confusão"
   ]
  },
  {
   "cell_type": "code",
   "execution_count": 8,
   "metadata": {},
   "outputs": [
    {
     "name": "stdout",
     "output_type": "stream",
     "text": [
      "Matriz de Confusão:\n",
      "[[39 23]\n",
      " [38 20]]\n"
     ]
    },
    {
     "data": {
      "text/plain": [
       "<sklearn.metrics._plot.confusion_matrix.ConfusionMatrixDisplay at 0x166080763c0>"
      ]
     },
     "execution_count": 8,
     "metadata": {},
     "output_type": "execute_result"
    },
    {
     "data": {
      "image/png": "[encoded data removed]",
      "text/plain": [
       "<Figure size 640x480 with 2 Axes>"
      ]
     },
     "metadata": {},
     "output_type": "display_data"
    }
   ],
   "source": [
    "# Criando a matriz de confusão\n",
    "matrix = confusion_matrix(df.label, df.predicted)\n",
    "\n",
    "# Exibindo a matriz de confusão\n",
    "print(\"Matriz de Confusão:\")\n",
    "print(matrix)\n",
    "\n",
    "# Visualizando a matriz de confusão\n",
    "disp = ConfusionMatrixDisplay(confusion_matrix=matrix, display_labels=['FAKE', 'REAL'])\n",
    "disp.plot()"
   ]
  },
  {
   "cell_type": "markdown",
   "metadata": {},
   "source": [
    "## Fake.Br Corpus"
   ]
  },
  {
   "cell_type": "code",
   "execution_count": 9,
   "metadata": {},
   "outputs": [],
   "source": [
    "y_predicted = pd.read_csv('../../results/results_zero_shot_fake_br_test.csv')\n",
    "y_train = pd.read_csv('../../data/y_test_fakes.csv')"
   ]
  },
  {
   "cell_type": "code",
   "execution_count": 10,
   "metadata": {},
   "outputs": [],
   "source": [
    "y_predicted.rename(columns={'label':'predicted'}, inplace= True)\n",
    "results_map = {'YES\\n': 0, 'NO\\n': 1}"
   ]
  },
  {
   "cell_type": "code",
   "execution_count": 11,
   "metadata": {},
   "outputs": [],
   "source": [
    "df = pd.concat([y_predicted, y_train], axis=1)\n",
    "df.predicted = df.predicted.map(results_map)"
   ]
  },
  {
   "cell_type": "code",
   "execution_count": 12,
   "metadata": {},
   "outputs": [
    {
     "name": "stdout",
     "output_type": "stream",
     "text": [
      "\n",
      "Relatório de Classificação:\n",
      "               precision    recall  f1-score   support\n",
      "\n",
      "           0       0.56      0.65      0.60        62\n",
      "           1       0.54      0.45      0.49        58\n",
      "\n",
      "    accuracy                           0.55       120\n",
      "   macro avg       0.55      0.55      0.54       120\n",
      "weighted avg       0.55      0.55      0.55       120\n",
      "\n"
     ]
    }
   ],
   "source": [
    "print(\"\\nRelatório de Classificação:\\n\", classification_report(df.label, df.predicted))"
   ]
  },
  {
   "cell_type": "markdown",
   "metadata": {},
   "source": [
    "## Matriz de confusão"
   ]
  },
  {
   "cell_type": "code",
   "execution_count": 13,
   "metadata": {},
   "outputs": [
    {
     "name": "stdout",
     "output_type": "stream",
     "text": [
      "Matriz de Confusão:\n",
      "[[40 22]\n",
      " [32 26]]\n"
     ]
    },
    {
     "data": {
      "text/plain": [
       "<sklearn.metrics._plot.confusion_matrix.ConfusionMatrixDisplay at 0x166657b2850>"
      ]
     },
     "execution_count": 13,
     "metadata": {},
     "output_type": "execute_result"
    },
    {
     "data": {
      "image/png": "[encoded data removed]",
      "text/plain": [
       "<Figure size 640x480 with 2 Axes>"
      ]
     },
     "metadata": {},
     "output_type": "display_data"
    }
   ],
   "source": [
    "# Criando a matriz de confusão\n",
    "matrix = confusion_matrix(df.label, df.predicted)\n",
    "\n",
    "# Exibindo a matriz de confusão\n",
    "print(\"Matriz de Confusão:\")\n",
    "print(matrix)\n",
    "\n",
    "# Visualizando a matriz de confusão\n",
    "disp = ConfusionMatrixDisplay(confusion_matrix=matrix, display_labels=['FAKE', 'REAL'])\n",
    "disp.plot()"
   ]
  },
  {
   "cell_type": "code",
   "execution_count": null,
   "metadata": {},
   "outputs": [],
   "source": []
  }
 ],
 "metadata": {
  "kernelspec": {
   "display_name": ".venv",
   "language": "python",
   "name": "python3"
  },
  "language_info": {
   "codemirror_mode": {
    "name": "ipython",
    "version": 3
   },
   "file_extension": ".py",
   "mimetype": "text/x-python",
   "name": "python",
   "nbconvert_exporter": "python",
   "pygments_lexer": "ipython3",
   "version": "3.13.1"
  }
 },
 "nbformat": 4,
 "nbformat_minor": 2
}
