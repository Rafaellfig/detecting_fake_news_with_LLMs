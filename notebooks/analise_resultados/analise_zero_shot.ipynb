{
 "cells": [
  {
   "cell_type": "markdown",
   "metadata": {},
   "source": [
    "# Análise Zero Shot"
   ]
  },
  {
   "cell_type": "markdown",
   "metadata": {},
   "source": [
    "## FA-KES"
   ]
  },
  {
   "cell_type": "code",
   "execution_count": 2,
   "metadata": {},
   "outputs": [],
   "source": [
    "import pandas as pd\n",
    "from sklearn.metrics import confusion_matrix, accuracy_score, precision_score, recall_score, f1_score, classification_report, ConfusionMatrixDisplay"
   ]
  },
  {
   "cell_type": "code",
   "execution_count": 3,
   "metadata": {},
   "outputs": [],
   "source": [
    "y_predicted_gem  = pd.read_csv('../../results/results_zero_shot_fakes_test.csv')\n",
    "y_predicted_ds  = pd.read_csv('../../results/results_zero_shot_fakes_test_deep_seek.csv')\n",
    "y_train = pd.read_csv('../../data/y_test_fakes.csv')"
   ]
  },
  {
   "cell_type": "code",
   "execution_count": 4,
   "metadata": {},
   "outputs": [],
   "source": [
    "def normalize_labels(df, column):\n",
    "    def clean_label(label):\n",
    "        label = str(label).upper().strip()\n",
    "        if \"YES\" in label:\n",
    "            return \"YES\"\n",
    "        return \"NO\"\n",
    "    \n",
    "    df[column] = df[column].apply(clean_label)\n",
    "    return df"
   ]
  },
  {
   "cell_type": "code",
   "execution_count": 5,
   "metadata": {},
   "outputs": [],
   "source": [
    "y_predicted_ds = normalize_labels(y_predicted_ds, \"label\")"
   ]
  },
  {
   "cell_type": "code",
   "execution_count": 6,
   "metadata": {},
   "outputs": [],
   "source": [
    "y_predicted_gem.rename(columns={'label':'predicted'}, inplace= True)\n",
    "y_predicted_ds.rename(columns={'label':'predicted'}, inplace= True)"
   ]
  },
  {
   "cell_type": "code",
   "execution_count": 7,
   "metadata": {},
   "outputs": [],
   "source": [
    "# 0 FAKE \n",
    "# 1 REAL\n",
    "results_map_gem = {'YES\\r\\n': 0, 'NO\\r\\n': 1}\n",
    "results_map_ds = {'YES': 0, 'NO': 1}"
   ]
  },
  {
   "cell_type": "code",
   "execution_count": 8,
   "metadata": {},
   "outputs": [],
   "source": [
    "df_gem = pd.concat([y_predicted_gem, y_train], axis=1)\n",
    "df_ds = pd.concat([y_predicted_ds, y_train], axis=1)"
   ]
  },
  {
   "cell_type": "code",
   "execution_count": 9,
   "metadata": {},
   "outputs": [],
   "source": [
    "df_gem.predicted = df_gem.predicted.map(results_map_gem)\n",
    "df_ds.predicted = df_ds.predicted.map(results_map_ds)"
   ]
  },
  {
   "cell_type": "code",
   "execution_count": 10,
   "metadata": {},
   "outputs": [
    {
     "name": "stdout",
     "output_type": "stream",
     "text": [
      "\n",
      "Relatório de Classificação:\n",
      "               precision    recall  f1-score   support\n",
      "\n",
      "           0       0.51      0.63      0.56        62\n",
      "           1       0.47      0.34      0.40        58\n",
      "\n",
      "    accuracy                           0.49       120\n",
      "   macro avg       0.49      0.49      0.48       120\n",
      "weighted avg       0.49      0.49      0.48       120\n",
      "\n"
     ]
    }
   ],
   "source": [
    "print(\"\\nRelatório de Classificação:\\n\", classification_report(df_gem.label, df_gem.predicted))"
   ]
  },
  {
   "cell_type": "code",
   "execution_count": 11,
   "metadata": {},
   "outputs": [
    {
     "name": "stdout",
     "output_type": "stream",
     "text": [
      "\n",
      "Relatório de Classificação:\n",
      "               precision    recall  f1-score   support\n",
      "\n",
      "           0       0.29      0.03      0.06        62\n",
      "           1       0.47      0.91      0.62        58\n",
      "\n",
      "    accuracy                           0.46       120\n",
      "   macro avg       0.38      0.47      0.34       120\n",
      "weighted avg       0.37      0.46      0.33       120\n",
      "\n"
     ]
    }
   ],
   "source": [
    "print(\"\\nRelatório de Classificação:\\n\", classification_report(df_ds.label, df_ds.predicted))"
   ]
  },
  {
   "cell_type": "markdown",
   "metadata": {},
   "source": [
    "### Matriz de Confusão"
   ]
  },
  {
   "cell_type": "code",
   "execution_count": 12,
   "metadata": {},
   "outputs": [
    {
     "name": "stdout",
     "output_type": "stream",
     "text": [
      "Matriz de Confusão:\n",
      "[[39 23]\n",
      " [38 20]]\n"
     ]
    },
    {
     "data": {
      "text/plain": [
       "<sklearn.metrics._plot.confusion_matrix.ConfusionMatrixDisplay at 0x265fe792900>"
      ]
     },
     "execution_count": 12,
     "metadata": {},
     "output_type": "execute_result"
    },
    {
     "data": {
      "image/png": "[encoded data removed]",
      "text/plain": [
       "<Figure size 640x480 with 2 Axes>"
      ]
     },
     "metadata": {},
     "output_type": "display_data"
    }
   ],
   "source": [
    "# Criando a matriz de confusão\n",
    "matrix = confusion_matrix(df_gem.label, df_gem.predicted)\n",
    "\n",
    "# Exibindo a matriz de confusão\n",
    "print(\"Matriz de Confusão:\")\n",
    "print(matrix)\n",
    "\n",
    "# Visualizando a matriz de confusão\n",
    "disp = ConfusionMatrixDisplay(confusion_matrix=matrix, display_labels=['FAKE', 'REAL'])\n",
    "disp.plot()"
   ]
  },
  {
   "cell_type": "code",
   "execution_count": 13,
   "metadata": {},
   "outputs": [
    {
     "name": "stdout",
     "output_type": "stream",
     "text": [
      "Matriz de Confusão:\n",
      "[[ 2 60]\n",
      " [ 5 53]]\n"
     ]
    },
    {
     "data": {
      "text/plain": [
       "<sklearn.metrics._plot.confusion_matrix.ConfusionMatrixDisplay at 0x265fe8b8a50>"
      ]
     },
     "execution_count": 13,
     "metadata": {},
     "output_type": "execute_result"
    },
    {
     "data": {
      "image/png": "[encoded data removed]",
      "text/plain": [
       "<Figure size 640x480 with 2 Axes>"
      ]
     },
     "metadata": {},
     "output_type": "display_data"
    }
   ],
   "source": [
    "# Criando a matriz de confusão\n",
    "matrix = confusion_matrix(df_ds.label, df_ds.predicted)\n",
    "\n",
    "# Exibindo a matriz de confusão\n",
    "print(\"Matriz de Confusão:\")\n",
    "print(matrix)\n",
    "\n",
    "# Visualizando a matriz de confusão\n",
    "disp = ConfusionMatrixDisplay(confusion_matrix=matrix, display_labels=['FAKE', 'REAL'])\n",
    "disp.plot()"
   ]
  },
  {
   "cell_type": "markdown",
   "metadata": {},
   "source": [
    "## Fake.Br Corpus"
   ]
  },
  {
   "cell_type": "code",
   "execution_count": 14,
   "metadata": {},
   "outputs": [],
   "source": [
    "y_predicted_gem = pd.read_csv('../../results/results_zero_shot_fake_br_test.csv')\n",
    "y_predicted_ds  = pd.read_csv('../../results/results_zero_shot_fakebr_test_deep_seek.csv')\n",
    "y_train = pd.read_csv('../../data/y_test_fakebr.csv')"
   ]
  },
  {
   "cell_type": "code",
   "execution_count": 15,
   "metadata": {},
   "outputs": [],
   "source": [
    "y_predicted_ds = normalize_labels(y_predicted_ds, \"label\")"
   ]
  },
  {
   "cell_type": "code",
   "execution_count": 16,
   "metadata": {},
   "outputs": [],
   "source": [
    "y_predicted_gem.rename(columns={'label':'predicted'}, inplace= True)\n",
    "y_predicted_ds.rename(columns={'label':'predicted'}, inplace= True)"
   ]
  },
  {
   "cell_type": "code",
   "execution_count": 17,
   "metadata": {},
   "outputs": [],
   "source": [
    "# 0 FAKE \n",
    "# 1 REAL\n",
    "results_map_gem = {'YES\\n': 0, 'NO\\n': 1}\n",
    "results_map_ds = {'YES': 0, 'NO': 1}"
   ]
  },
  {
   "cell_type": "code",
   "execution_count": 18,
   "metadata": {},
   "outputs": [],
   "source": [
    "df_gem = pd.concat([y_predicted_gem, y_train], axis=1)\n",
    "df_ds = pd.concat([y_predicted_ds, y_train], axis=1)"
   ]
  },
  {
   "cell_type": "code",
   "execution_count": 19,
   "metadata": {},
   "outputs": [],
   "source": [
    "df_gem.predicted = df_gem.predicted.map(results_map_gem)\n",
    "df_ds.predicted = df_ds.predicted.map(results_map_ds)"
   ]
  },
  {
   "cell_type": "code",
   "execution_count": 20,
   "metadata": {},
   "outputs": [
    {
     "name": "stdout",
     "output_type": "stream",
     "text": [
      "\n",
      "Relatório de Classificação:\n",
      "               precision    recall  f1-score   support\n",
      "\n",
      "           0       0.79      0.85      0.82        67\n",
      "           1       0.79      0.72      0.75        53\n",
      "\n",
      "    accuracy                           0.79       120\n",
      "   macro avg       0.79      0.78      0.79       120\n",
      "weighted avg       0.79      0.79      0.79       120\n",
      "\n"
     ]
    }
   ],
   "source": [
    "print(\"\\nRelatório de Classificação:\\n\", classification_report(df_gem.label, df_gem.predicted))"
   ]
  },
  {
   "cell_type": "code",
   "execution_count": 21,
   "metadata": {},
   "outputs": [
    {
     "name": "stdout",
     "output_type": "stream",
     "text": [
      "\n",
      "Relatório de Classificação:\n",
      "               precision    recall  f1-score   support\n",
      "\n",
      "           0       0.92      0.36      0.52        67\n",
      "           1       0.54      0.96      0.69        53\n",
      "\n",
      "    accuracy                           0.62       120\n",
      "   macro avg       0.73      0.66      0.61       120\n",
      "weighted avg       0.76      0.62      0.59       120\n",
      "\n"
     ]
    }
   ],
   "source": [
    "print(\"\\nRelatório de Classificação:\\n\", classification_report(df_ds.label, df_ds.predicted))"
   ]
  },
  {
   "cell_type": "markdown",
   "metadata": {},
   "source": [
    "### Matriz de confusão"
   ]
  },
  {
   "cell_type": "code",
   "execution_count": 22,
   "metadata": {},
   "outputs": [
    {
     "name": "stdout",
     "output_type": "stream",
     "text": [
      "Matriz de Confusão:\n",
      "[[57 10]\n",
      " [15 38]]\n"
     ]
    },
    {
     "data": {
      "text/plain": [
       "<sklearn.metrics._plot.confusion_matrix.ConfusionMatrixDisplay at 0x265fe8b8cd0>"
      ]
     },
     "execution_count": 22,
     "metadata": {},
     "output_type": "execute_result"
    },
    {
     "data": {
      "image/png": "[encoded data removed]",
      "text/plain": [
       "<Figure size 640x480 with 2 Axes>"
      ]
     },
     "metadata": {},
     "output_type": "display_data"
    }
   ],
   "source": [
    "# Criando a matriz de confusão\n",
    "matrix = confusion_matrix(df_gem.label, df_gem.predicted)\n",
    "\n",
    "# Exibindo a matriz de confusão\n",
    "print(\"Matriz de Confusão:\")\n",
    "print(matrix)\n",
    "\n",
    "# Visualizando a matriz de confusão\n",
    "disp = ConfusionMatrixDisplay(confusion_matrix=matrix, display_labels=['FAKE', 'REAL'])\n",
    "disp.plot()"
   ]
  },
  {
   "cell_type": "code",
   "execution_count": 23,
   "metadata": {},
   "outputs": [
    {
     "name": "stdout",
     "output_type": "stream",
     "text": [
      "Matriz de Confusão:\n",
      "[[24 43]\n",
      " [ 2 51]]\n"
     ]
    },
    {
     "data": {
      "text/plain": [
       "<sklearn.metrics._plot.confusion_matrix.ConfusionMatrixDisplay at 0x265ff626520>"
      ]
     },
     "execution_count": 23,
     "metadata": {},
     "output_type": "execute_result"
    },
    {
     "data": {
      "image/png": "[encoded data removed]",
      "text/plain": [
       "<Figure size 640x480 with 2 Axes>"
      ]
     },
     "metadata": {},
     "output_type": "display_data"
    }
   ],
   "source": [
    "# Criando a matriz de confusão\n",
    "matrix = confusion_matrix(df_ds.label, df_ds.predicted)\n",
    "\n",
    "# Exibindo a matriz de confusão\n",
    "print(\"Matriz de Confusão:\")\n",
    "print(matrix)\n",
    "\n",
    "# Visualizando a matriz de confusão\n",
    "disp = ConfusionMatrixDisplay(confusion_matrix=matrix, display_labels=['FAKE', 'REAL'])\n",
    "disp.plot()"
   ]
  }
 ],
 "metadata": {
  "kernelspec": {
   "display_name": ".venv",
   "language": "python",
   "name": "python3"
  },
  "language_info": {
   "codemirror_mode": {
    "name": "ipython",
    "version": 3
   },
   "file_extension": ".py",
   "mimetype": "text/x-python",
   "name": "python",
   "nbconvert_exporter": "python",
   "pygments_lexer": "ipython3",
   "version": "3.13.1"
  }
 },
 "nbformat": 4,
 "nbformat_minor": 2
}
