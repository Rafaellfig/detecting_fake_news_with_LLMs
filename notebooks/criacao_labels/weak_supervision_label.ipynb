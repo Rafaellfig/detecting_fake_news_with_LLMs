{
 "cells": [
  {
   "cell_type": "markdown",
   "metadata": {},
   "source": [
    "# Weak-Supervision Labels"
   ]
  },
  {
   "cell_type": "code",
   "execution_count": 11,
   "metadata": {},
   "outputs": [],
   "source": [
    "# REMOVER\n",
    "import os\n",
    "os.chdir('d:\\\\Rafael\\\\MBA\\\\TCC')"
   ]
  },
  {
   "cell_type": "code",
   "execution_count": 12,
   "metadata": {},
   "outputs": [],
   "source": [
    "import aisuite as ai\n",
    "import pandas as pd\n",
    "from src.utils.api_utils import weak_supervision_label"
   ]
  },
  {
   "cell_type": "code",
   "execution_count": 13,
   "metadata": {},
   "outputs": [],
   "source": [
    "articles = pd.read_csv('data/X_test_fakes.csv')"
   ]
  },
  {
   "cell_type": "code",
   "execution_count": 14,
   "metadata": {},
   "outputs": [],
   "source": [
    "#models = [\"google:gemini-1.5-pro\"]\n",
    "models = [\"deepseek:deepseek-chat\"]"
   ]
  },
  {
   "cell_type": "code",
   "execution_count": 15,
   "metadata": {},
   "outputs": [],
   "source": [
    "dict_credibility_signals = {\n",
    "    'Evidence' : 'Does the article present any supporting evidence or arguments to substantiate its claims?',\n",
    "    'Bias' : 'Does the article exhibit any explicit biases in its content, tone, or perspective?',\n",
    "    'Inference' : 'Does the article make claims about correlation and causation?',\n",
    "    'Explicitly Unverified Claims' : 'Does the article contain claims that are explicitly unverified?',\n",
    "    'Personal Perspective' : 'Does the article express the author’s opinion on the subject?',\n",
    "    'Emotional Valence' : 'Is the language in the article extremely negative or extremely positive instead of neutral?',\n",
    "    'Polarising Language' : 'Does the article make use of polarising terms or make divisions into sharply contrasting groups or sets of opinions or beliefs?',\n",
    "    'Call to Action' : 'Does the article contain language that can be understood as a call to action, requesting readers to follow through with a particular task or telling readers what to do?',\n",
    "    'Expert Citation' : 'Does the article cite one or more experts in the subject?',\n",
    "    'Document Citation' : 'Does the article cite one or more studies or documents?',\n",
    "    'Source Credibility' : 'Does the article cite sources that are generally considered credible?',\n",
    "    'Incorrect Spelling' : 'Does the article have significant misspellings and/or grammatical errors?',\n",
    "    'Informal Tone' : 'Does the article make use of all caps or consecutive exclamation or question marks?',\n",
    "    'Incivility' : 'Does the article make use of stereotypes and generalizations of groups of people?',\n",
    "    'Impoliteness' : 'Does the article contain insults, name-calling, or profanity?',\n",
    "    'Sensationalism' : 'Does the article make use of sensationalist claims?',\n",
    "    'Low Credibility Organization' : 'This article was posted by a media outlet called {organization_name}.Is this source known for publishing false, unverified, or propagandistic articles?',\n",
    "    'Reported by Other Sources' : 'Was the story on this article reported by other reputable media outlets?'\n",
    "}"
   ]
  },
  {
   "cell_type": "code",
   "execution_count": null,
   "metadata": {},
   "outputs": [],
   "source": [
    "df_respostas = weak_supervision_label(articles, models, dict_credibility_signals,temperature=0.1, delay=0, max_workers=20)"
   ]
  },
  {
   "cell_type": "code",
   "execution_count": 17,
   "metadata": {},
   "outputs": [],
   "source": [
    "df_respostas.to_csv('results/resultados_weak_supervision_fakes_test_deep_seek_part1.csv', index = False)"
   ]
  },
  {
   "cell_type": "markdown",
   "metadata": {},
   "source": [
    "# Rerodando para erros"
   ]
  },
  {
   "cell_type": "code",
   "execution_count": null,
   "metadata": {},
   "outputs": [],
   "source": []
  }
 ],
 "metadata": {
  "kernelspec": {
   "display_name": ".venv",
   "language": "python",
   "name": "python3"
  },
  "language_info": {
   "codemirror_mode": {
    "name": "ipython",
    "version": 3
   },
   "file_extension": ".py",
   "mimetype": "text/x-python",
   "name": "python",
   "nbconvert_exporter": "python",
   "pygments_lexer": "ipython3",
   "version": "3.13.1"
  }
 },
 "nbformat": 4,
 "nbformat_minor": 2
}
