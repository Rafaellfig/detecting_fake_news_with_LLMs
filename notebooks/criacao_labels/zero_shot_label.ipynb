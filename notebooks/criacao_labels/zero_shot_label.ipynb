{
 "cells": [
  {
   "cell_type": "markdown",
   "metadata": {},
   "source": [
    "# Zero-shot Label"
   ]
  },
  {
   "cell_type": "code",
   "execution_count": 1,
   "metadata": {},
   "outputs": [],
   "source": [
    "# REMOVER\n",
    "import os\n",
    "os.chdir('d:\\\\Rafael\\\\MBA\\\\TCC')"
   ]
  },
  {
   "cell_type": "code",
   "execution_count": 4,
   "metadata": {},
   "outputs": [],
   "source": [
    "import aisuite as ai\n",
    "import pandas as pd\n",
    "from src.utils.api_utils import zero_prompt_run"
   ]
  },
  {
   "cell_type": "code",
   "execution_count": 5,
   "metadata": {},
   "outputs": [],
   "source": [
    "articles = pd.read_csv('data/X_train_fakes.csv')\n",
    "models = [\"google:gemini-1.5-flash-002\"]"
   ]
  },
  {
   "cell_type": "code",
   "execution_count": 6,
   "metadata": {},
   "outputs": [],
   "source": [
    "# REMOVER\n",
    "articles = articles[:5]"
   ]
  },
  {
   "cell_type": "code",
   "execution_count": 7,
   "metadata": {},
   "outputs": [
    {
     "name": "stdout",
     "output_type": "stream",
     "text": [
      "Processando artigo 1 de 5...\n",
      "Processando artigo 2 de 5...\n",
      "Processando artigo 3 de 5...\n",
      "Processando artigo 4 de 5...\n",
      "Processando artigo 5 de 5...\n"
     ]
    }
   ],
   "source": [
    "df_respostas = zero_prompt_run(articles, models, temperature = 0.1)"
   ]
  },
  {
   "cell_type": "code",
   "execution_count": 12,
   "metadata": {},
   "outputs": [
    {
     "data": {
      "text/html": [
       "<div>\n",
       "<style scoped>\n",
       "    .dataframe tbody tr th:only-of-type {\n",
       "        vertical-align: middle;\n",
       "    }\n",
       "\n",
       "    .dataframe tbody tr th {\n",
       "        vertical-align: top;\n",
       "    }\n",
       "\n",
       "    .dataframe thead th {\n",
       "        text-align: right;\n",
       "    }\n",
       "</style>\n",
       "<table border=\"1\" class=\"dataframe\">\n",
       "  <thead>\n",
       "    <tr style=\"text-align: right;\">\n",
       "      <th></th>\n",
       "      <th>modelo</th>\n",
       "      <th>artigo</th>\n",
       "      <th>resposta</th>\n",
       "      <th>label</th>\n",
       "    </tr>\n",
       "  </thead>\n",
       "  <tbody>\n",
       "    <tr>\n",
       "      <th>0</th>\n",
       "      <td>google:gemini-1.5-flash-002</td>\n",
       "      <td>Sat Aug 13 2016 200 Jeish Al Fatah Terrorists ...</td>\n",
       "      <td>YES\\n\\nThis article contains potential misinfo...</td>\n",
       "      <td>YES\\n</td>\n",
       "    </tr>\n",
       "    <tr>\n",
       "      <th>1</th>\n",
       "      <td>google:gemini-1.5-flash-002</td>\n",
       "      <td>05.02.2015 A Syrian rebel Islamist group has l...</td>\n",
       "      <td>YES\\n\\nThis article contains potential misinfo...</td>\n",
       "      <td>YES\\n</td>\n",
       "    </tr>\n",
       "    <tr>\n",
       "      <th>2</th>\n",
       "      <td>google:gemini-1.5-flash-002</td>\n",
       "      <td>15 Apr 2017 The attack took place as thousands...</td>\n",
       "      <td>YES\\n\\nThis article contains potential misinfo...</td>\n",
       "      <td>YES\\n</td>\n",
       "    </tr>\n",
       "    <tr>\n",
       "      <th>3</th>\n",
       "      <td>google:gemini-1.5-flash-002</td>\n",
       "      <td>01.10.2014 A double terrorist attack in the we...</td>\n",
       "      <td>YES\\n\\nThis article contains potential misinfo...</td>\n",
       "      <td>YES\\n</td>\n",
       "    </tr>\n",
       "    <tr>\n",
       "      <th>4</th>\n",
       "      <td>google:gemini-1.5-flash-002</td>\n",
       "      <td>Last updated at Jul 282016 QAMISHLI Syria A ma...</td>\n",
       "      <td>YES\\n\\nThis article contains elements that cou...</td>\n",
       "      <td>YES\\n</td>\n",
       "    </tr>\n",
       "  </tbody>\n",
       "</table>\n",
       "</div>"
      ],
      "text/plain": [
       "                        modelo  \\\n",
       "0  google:gemini-1.5-flash-002   \n",
       "1  google:gemini-1.5-flash-002   \n",
       "2  google:gemini-1.5-flash-002   \n",
       "3  google:gemini-1.5-flash-002   \n",
       "4  google:gemini-1.5-flash-002   \n",
       "\n",
       "                                              artigo  \\\n",
       "0  Sat Aug 13 2016 200 Jeish Al Fatah Terrorists ...   \n",
       "1  05.02.2015 A Syrian rebel Islamist group has l...   \n",
       "2  15 Apr 2017 The attack took place as thousands...   \n",
       "3  01.10.2014 A double terrorist attack in the we...   \n",
       "4  Last updated at Jul 282016 QAMISHLI Syria A ma...   \n",
       "\n",
       "                                            resposta  label  \n",
       "0  YES\\n\\nThis article contains potential misinfo...  YES\\n  \n",
       "1  YES\\n\\nThis article contains potential misinfo...  YES\\n  \n",
       "2  YES\\n\\nThis article contains potential misinfo...  YES\\n  \n",
       "3  YES\\n\\nThis article contains potential misinfo...  YES\\n  \n",
       "4  YES\\n\\nThis article contains elements that cou...  YES\\n  "
      ]
     },
     "execution_count": 12,
     "metadata": {},
     "output_type": "execute_result"
    }
   ],
   "source": [
    "df_respostas"
   ]
  },
  {
   "cell_type": "code",
   "execution_count": 9,
   "metadata": {},
   "outputs": [],
   "source": [
    "#df_respostas.to_csv('results/results_zero_shot.csv', index= False)"
   ]
  },
  {
   "cell_type": "code",
   "execution_count": 10,
   "metadata": {},
   "outputs": [
    {
     "data": {
      "text/plain": [
       "label\n",
       "YES\\n    5\n",
       "Name: count, dtype: int64"
      ]
     },
     "execution_count": 10,
     "metadata": {},
     "output_type": "execute_result"
    }
   ],
   "source": [
    "df_respostas.label.value_counts()"
   ]
  },
  {
   "cell_type": "code",
   "execution_count": null,
   "metadata": {},
   "outputs": [],
   "source": []
  }
 ],
 "metadata": {
  "kernelspec": {
   "display_name": ".venv",
   "language": "python",
   "name": "python3"
  },
  "language_info": {
   "codemirror_mode": {
    "name": "ipython",
    "version": 3
   },
   "file_extension": ".py",
   "mimetype": "text/x-python",
   "name": "python",
   "nbconvert_exporter": "python",
   "pygments_lexer": "ipython3",
   "version": "3.13.1"
  }
 },
 "nbformat": 4,
 "nbformat_minor": 2
}
