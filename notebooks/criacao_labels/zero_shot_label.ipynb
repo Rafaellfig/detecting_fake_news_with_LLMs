{
 "cells": [
  {
   "cell_type": "markdown",
   "metadata": {},
   "source": [
    "# Zero-shot Label"
   ]
  },
  {
   "cell_type": "code",
   "execution_count": 8,
   "metadata": {},
   "outputs": [],
   "source": [
    "# REMOVER\n",
    "import os\n",
    "os.chdir('d:\\\\Rafael\\\\MBA\\\\TCC')"
   ]
  },
  {
   "cell_type": "code",
   "execution_count": 9,
   "metadata": {},
   "outputs": [],
   "source": [
    "import aisuite as ai\n",
    "import pandas as pd\n",
    "from src.utils.api_utils import zero_prompt_run"
   ]
  },
  {
   "cell_type": "code",
   "execution_count": 10,
   "metadata": {},
   "outputs": [],
   "source": [
    "articles = pd.read_csv('data/X_test_fakes.csv')\n",
    "models = [\"google:gemini-1.5-flash-002\"]"
   ]
  },
  {
   "cell_type": "code",
   "execution_count": 11,
   "metadata": {},
   "outputs": [
    {
     "name": "stdout",
     "output_type": "stream",
     "text": [
      "Processando artigo 1 de 120...\n",
      "Processando artigo 2 de 120...\n",
      "Processando artigo 3 de 120...\n",
      "Processando artigo 4 de 120...\n",
      "Processando artigo 5 de 120...\n",
      "Processando artigo 6 de 120...\n",
      "Processando artigo 7 de 120...\n",
      "Processando artigo 8 de 120...\n",
      "Processando artigo 9 de 120...\n",
      "Processando artigo 10 de 120...\n",
      "Processando artigo 11 de 120...\n",
      "Processando artigo 12 de 120...\n",
      "Processando artigo 13 de 120...\n",
      "Processando artigo 14 de 120...\n",
      "Processando artigo 15 de 120...\n",
      "Processando artigo 16 de 120...\n",
      "Processando artigo 17 de 120...\n",
      "Processando artigo 18 de 120...\n",
      "Processando artigo 19 de 120...\n",
      "Processando artigo 20 de 120...\n",
      "Processando artigo 21 de 120...\n",
      "Processando artigo 22 de 120...\n",
      "Processando artigo 23 de 120...\n",
      "Processando artigo 24 de 120...\n",
      "Processando artigo 25 de 120...\n",
      "Processando artigo 26 de 120...\n",
      "Processando artigo 27 de 120...\n",
      "Processando artigo 28 de 120...\n",
      "Processando artigo 29 de 120...\n",
      "Processando artigo 30 de 120...\n",
      "Processando artigo 31 de 120...\n",
      "Processando artigo 32 de 120...\n",
      "Processando artigo 33 de 120...\n",
      "Processando artigo 34 de 120...\n",
      "Processando artigo 35 de 120...\n",
      "Processando artigo 36 de 120...\n",
      "Processando artigo 37 de 120...\n",
      "Processando artigo 38 de 120...\n",
      "Processando artigo 39 de 120...\n",
      "Processando artigo 40 de 120...\n",
      "Processando artigo 41 de 120...\n",
      "Processando artigo 42 de 120...\n",
      "Processando artigo 43 de 120...\n",
      "Processando artigo 44 de 120...\n",
      "Processando artigo 45 de 120...\n",
      "Processando artigo 46 de 120...\n",
      "Processando artigo 47 de 120...\n",
      "Processando artigo 48 de 120...\n",
      "Processando artigo 49 de 120...\n",
      "Processando artigo 50 de 120...\n",
      "Processando artigo 51 de 120...\n",
      "Processando artigo 52 de 120...\n",
      "Processando artigo 53 de 120...\n",
      "Processando artigo 54 de 120...\n",
      "Processando artigo 55 de 120...\n",
      "Processando artigo 56 de 120...\n",
      "Processando artigo 57 de 120...\n",
      "Processando artigo 58 de 120...\n",
      "Processando artigo 59 de 120...\n",
      "Processando artigo 60 de 120...\n",
      "Processando artigo 61 de 120...\n",
      "Processando artigo 62 de 120...\n",
      "Processando artigo 63 de 120...\n",
      "Processando artigo 64 de 120...\n",
      "Processando artigo 65 de 120...\n",
      "Processando artigo 66 de 120...\n",
      "Processando artigo 67 de 120...\n",
      "Processando artigo 68 de 120...\n",
      "Processando artigo 69 de 120...\n",
      "Processando artigo 70 de 120...\n",
      "Processando artigo 71 de 120...\n",
      "Processando artigo 72 de 120...\n",
      "Processando artigo 73 de 120...\n",
      "Processando artigo 74 de 120...\n",
      "Processando artigo 75 de 120...\n",
      "Processando artigo 76 de 120...\n",
      "Processando artigo 77 de 120...\n",
      "Processando artigo 78 de 120...\n",
      "Processando artigo 79 de 120...\n",
      "Processando artigo 80 de 120...\n",
      "Processando artigo 81 de 120...\n",
      "Processando artigo 82 de 120...\n",
      "Processando artigo 83 de 120...\n",
      "Processando artigo 84 de 120...\n",
      "Processando artigo 85 de 120...\n",
      "Processando artigo 86 de 120...\n",
      "Processando artigo 87 de 120...\n",
      "Processando artigo 88 de 120...\n",
      "Processando artigo 89 de 120...\n",
      "Processando artigo 90 de 120...\n",
      "Processando artigo 91 de 120...\n",
      "Processando artigo 92 de 120...\n",
      "Processando artigo 93 de 120...\n",
      "Processando artigo 94 de 120...\n",
      "Processando artigo 95 de 120...\n",
      "Processando artigo 96 de 120...\n",
      "Processando artigo 97 de 120...\n",
      "Processando artigo 98 de 120...\n",
      "Processando artigo 99 de 120...\n",
      "Processando artigo 100 de 120...\n",
      "Processando artigo 101 de 120...\n",
      "Processando artigo 102 de 120...\n",
      "Processando artigo 103 de 120...\n",
      "Processando artigo 104 de 120...\n",
      "Processando artigo 105 de 120...\n",
      "Processando artigo 106 de 120...\n",
      "Processando artigo 107 de 120...\n",
      "Processando artigo 108 de 120...\n",
      "Processando artigo 109 de 120...\n",
      "Processando artigo 110 de 120...\n",
      "Processando artigo 111 de 120...\n",
      "Processando artigo 112 de 120...\n",
      "Processando artigo 113 de 120...\n",
      "Processando artigo 114 de 120...\n",
      "Processando artigo 115 de 120...\n",
      "Processando artigo 116 de 120...\n",
      "Processando artigo 117 de 120...\n",
      "Processando artigo 118 de 120...\n",
      "Processando artigo 119 de 120...\n",
      "Processando artigo 120 de 120...\n"
     ]
    }
   ],
   "source": [
    "df_respostas = zero_prompt_run(articles, models, temperature = 0.1)"
   ]
  },
  {
   "cell_type": "code",
   "execution_count": 12,
   "metadata": {},
   "outputs": [],
   "source": [
    "df_respostas.to_csv('results/results_zero_shot_fakes_test.csv', index= False)"
   ]
  },
  {
   "cell_type": "code",
   "execution_count": 13,
   "metadata": {},
   "outputs": [
    {
     "data": {
      "text/plain": [
       "label\n",
       "YES\\n    77\n",
       "NO\\n     43\n",
       "Name: count, dtype: int64"
      ]
     },
     "execution_count": 13,
     "metadata": {},
     "output_type": "execute_result"
    }
   ],
   "source": [
    "df_respostas.label.value_counts()"
   ]
  },
  {
   "cell_type": "code",
   "execution_count": null,
   "metadata": {},
   "outputs": [],
   "source": []
  }
 ],
 "metadata": {
  "kernelspec": {
   "display_name": ".venv",
   "language": "python",
   "name": "python3"
  },
  "language_info": {
   "codemirror_mode": {
    "name": "ipython",
    "version": 3
   },
   "file_extension": ".py",
   "mimetype": "text/x-python",
   "name": "python",
   "nbconvert_exporter": "python",
   "pygments_lexer": "ipython3",
   "version": "3.13.1"
  }
 },
 "nbformat": 4,
 "nbformat_minor": 2
}
