{
 "cells": [
  {
   "cell_type": "markdown",
   "metadata": {},
   "source": [
    "# Notebook para Leitura dos Dados do Fake.br Corpus"
   ]
  },
  {
   "cell_type": "code",
   "execution_count": 2,
   "metadata": {},
   "outputs": [],
   "source": [
    "import pandas as pd\n",
    "import os"
   ]
  },
  {
   "cell_type": "markdown",
   "metadata": {},
   "source": [
    "## Base FAKE"
   ]
  },
  {
   "cell_type": "code",
   "execution_count": 3,
   "metadata": {},
   "outputs": [],
   "source": [
    "texts = []\n",
    "texts_path = 'D:\\\\Rafael\\\\MBA\\\\Fake.br-Corpus-master\\\\Fake.br-Corpus-master\\\\full_texts\\\\fake'\n",
    "for file_name in os.listdir(texts_path):\n",
    "    if file_name.endswith(\".txt\"):\n",
    "        text_id = int(file_name.split(\".\")[0])  # Extrair o ID do texto\n",
    "        file_path = os.path.join(texts_path, file_name)\n",
    "        with open(file_path, \"r\", encoding=\"utf-8\") as f:\n",
    "            text_content = f.read()\n",
    "        texts.append({\"id\": text_id, \"text\": text_content})"
   ]
  },
  {
   "cell_type": "code",
   "execution_count": 4,
   "metadata": {},
   "outputs": [],
   "source": [
    "metadata_columns = [\n",
    "    \"author\",\n",
    "    \"link\",\n",
    "    \"category\",\n",
    "    \"date_of_publication\",\n",
    "    \"number_of_tokens\",\n",
    "    \"number_of_words_without_punctuation\",\n",
    "    \"number_of_types\",\n",
    "    \"number_of_links_inside_the_news\",\n",
    "    \"number_of_words_in_upper_case\",\n",
    "    \"number_of_verbs\",\n",
    "    \"number_of_subjunctive_and_imperative_verbs\",\n",
    "    \"number_of_nouns\",\n",
    "    \"number_of_adjectives\",\n",
    "    \"number_of_adverbs\",\n",
    "    \"number_of_modal_verbs\",\n",
    "    \"number_of_singular_first_and_second_personal_pronouns\",\n",
    "    \"number_of_plural_first_personal_pronouns\",\n",
    "    \"number_of_pronouns\",\n",
    "    \"pausality\",\n",
    "    \"number_of_characters\",\n",
    "    \"average_sentence_length\",\n",
    "    \"average_word_length\",\n",
    "    \"percentage_of_news_with_spelling_errors\",\n",
    "    \"emotiveness\",\n",
    "    \"diversity\"\n",
    "]"
   ]
  },
  {
   "cell_type": "code",
   "execution_count": 5,
   "metadata": {},
   "outputs": [
    {
     "ename": "KeyboardInterrupt",
     "evalue": "",
     "output_type": "error",
     "traceback": [
      "\u001b[1;31m---------------------------------------------------------------------------\u001b[0m",
      "\u001b[1;31mKeyboardInterrupt\u001b[0m                         Traceback (most recent call last)",
      "Cell \u001b[1;32mIn[5], line 7\u001b[0m\n\u001b[0;32m      5\u001b[0m text_id \u001b[38;5;241m=\u001b[39m \u001b[38;5;28mint\u001b[39m(file_name\u001b[38;5;241m.\u001b[39msplit(\u001b[38;5;124m\"\u001b[39m\u001b[38;5;124m-\u001b[39m\u001b[38;5;124m\"\u001b[39m)[\u001b[38;5;241m0\u001b[39m])  \u001b[38;5;66;03m# Extrair o ID do texto (antes do .txt)\u001b[39;00m\n\u001b[0;32m      6\u001b[0m file_path \u001b[38;5;241m=\u001b[39m os\u001b[38;5;241m.\u001b[39mpath\u001b[38;5;241m.\u001b[39mjoin(texts_path, file_name)\n\u001b[1;32m----> 7\u001b[0m \u001b[38;5;28;01mwith\u001b[39;00m \u001b[38;5;28;43mopen\u001b[39;49m\u001b[43m(\u001b[49m\u001b[43mfile_path\u001b[49m\u001b[43m,\u001b[49m\u001b[43m \u001b[49m\u001b[38;5;124;43m\"\u001b[39;49m\u001b[38;5;124;43mr\u001b[39;49m\u001b[38;5;124;43m\"\u001b[39;49m\u001b[43m,\u001b[49m\u001b[43m \u001b[49m\u001b[43mencoding\u001b[49m\u001b[38;5;241;43m=\u001b[39;49m\u001b[38;5;124;43m\"\u001b[39;49m\u001b[38;5;124;43mutf-8\u001b[39;49m\u001b[38;5;124;43m\"\u001b[39;49m\u001b[43m)\u001b[49m \u001b[38;5;28;01mas\u001b[39;00m f:\n\u001b[0;32m      8\u001b[0m     lines \u001b[38;5;241m=\u001b[39m f\u001b[38;5;241m.\u001b[39mreadlines()\n\u001b[0;32m     10\u001b[0m     \u001b[38;5;66;03m# Separar os metadados e o texto\u001b[39;00m\n",
      "File \u001b[1;32md:\\Rafael\\MBA\\TCC\\.venv\\Lib\\site-packages\\IPython\\core\\interactiveshell.py:324\u001b[0m, in \u001b[0;36m_modified_open\u001b[1;34m(file, *args, **kwargs)\u001b[0m\n\u001b[0;32m    317\u001b[0m \u001b[38;5;28;01mif\u001b[39;00m file \u001b[38;5;129;01min\u001b[39;00m {\u001b[38;5;241m0\u001b[39m, \u001b[38;5;241m1\u001b[39m, \u001b[38;5;241m2\u001b[39m}:\n\u001b[0;32m    318\u001b[0m     \u001b[38;5;28;01mraise\u001b[39;00m \u001b[38;5;167;01mValueError\u001b[39;00m(\n\u001b[0;32m    319\u001b[0m         \u001b[38;5;124mf\u001b[39m\u001b[38;5;124m\"\u001b[39m\u001b[38;5;124mIPython won\u001b[39m\u001b[38;5;124m'\u001b[39m\u001b[38;5;124mt let you open fd=\u001b[39m\u001b[38;5;132;01m{\u001b[39;00mfile\u001b[38;5;132;01m}\u001b[39;00m\u001b[38;5;124m by default \u001b[39m\u001b[38;5;124m\"\u001b[39m\n\u001b[0;32m    320\u001b[0m         \u001b[38;5;124m\"\u001b[39m\u001b[38;5;124mas it is likely to crash IPython. If you know what you are doing, \u001b[39m\u001b[38;5;124m\"\u001b[39m\n\u001b[0;32m    321\u001b[0m         \u001b[38;5;124m\"\u001b[39m\u001b[38;5;124myou can use builtins\u001b[39m\u001b[38;5;124m'\u001b[39m\u001b[38;5;124m open.\u001b[39m\u001b[38;5;124m\"\u001b[39m\n\u001b[0;32m    322\u001b[0m     )\n\u001b[1;32m--> 324\u001b[0m \u001b[38;5;28;01mreturn\u001b[39;00m \u001b[43mio_open\u001b[49m\u001b[43m(\u001b[49m\u001b[43mfile\u001b[49m\u001b[43m,\u001b[49m\u001b[43m \u001b[49m\u001b[38;5;241;43m*\u001b[39;49m\u001b[43margs\u001b[49m\u001b[43m,\u001b[49m\u001b[43m \u001b[49m\u001b[38;5;241;43m*\u001b[39;49m\u001b[38;5;241;43m*\u001b[39;49m\u001b[43mkwargs\u001b[49m\u001b[43m)\u001b[49m\n",
      "File \u001b[1;32m<frozen codecs>:312\u001b[0m, in \u001b[0;36m__init__\u001b[1;34m(self, errors)\u001b[0m\n",
      "\u001b[1;31mKeyboardInterrupt\u001b[0m: "
     ]
    }
   ],
   "source": [
    "metadados = []\n",
    "texts_path = 'D:\\\\Rafael\\\\MBA\\\\Fake.br-Corpus-master\\\\Fake.br-Corpus-master\\\\full_texts\\\\fake-meta-information'\n",
    "for file_name in os.listdir(texts_path):\n",
    "    if file_name.endswith(\".txt\"):  # Garantir que só processa arquivos de texto\n",
    "        text_id = int(file_name.split(\"-\")[0])  # Extrair o ID do texto (antes do .txt)\n",
    "        file_path = os.path.join(texts_path, file_name)\n",
    "        with open(file_path, \"r\", encoding=\"utf-8\") as f:\n",
    "            lines = f.readlines()\n",
    "            \n",
    "            # Separar os metadados e o texto\n",
    "            metadata_values = [line.strip() for line in lines[:len(metadata_columns)]]\n",
    "            text_id = int(file_name.split(\"-\")[0])\n",
    "            \n",
    "            # Adicionar ao conjunto de dados\n",
    "            entry = {col: val for col, val in zip(metadata_columns, metadata_values)}\n",
    "            entry[\"id\"] = text_id\n",
    "            metadados.append(entry)"
   ]
  },
  {
   "cell_type": "code",
   "execution_count": 32,
   "metadata": {},
   "outputs": [],
   "source": [
    "metadados_df = pd.DataFrame(metadados)"
   ]
  },
  {
   "cell_type": "code",
   "execution_count": 33,
   "metadata": {},
   "outputs": [],
   "source": [
    "df_texts = pd.DataFrame(texts)"
   ]
  },
  {
   "cell_type": "code",
   "execution_count": 34,
   "metadata": {},
   "outputs": [],
   "source": [
    "df = df_texts.merge(metadados_df, on ='id')"
   ]
  },
  {
   "cell_type": "code",
   "execution_count": 35,
   "metadata": {},
   "outputs": [],
   "source": [
    "df.sample(200, random_state= 13).to_csv('bases_externas/fakebr.csv', index=False)"
   ]
  },
  {
   "cell_type": "markdown",
   "metadata": {},
   "source": [
    "## Base Real"
   ]
  },
  {
   "cell_type": "code",
   "execution_count": 36,
   "metadata": {},
   "outputs": [],
   "source": [
    "texts = []\n",
    "texts_path = 'D:\\\\Rafael\\\\MBA\\\\Fake.br-Corpus-master\\\\Fake.br-Corpus-master\\\\full_texts\\\\true'\n",
    "for file_name in os.listdir(texts_path):\n",
    "    if file_name.endswith(\".txt\"):\n",
    "        text_id = int(file_name.split(\".\")[0])  # Extrair o ID do texto\n",
    "        file_path = os.path.join(texts_path, file_name)\n",
    "        with open(file_path, \"r\", encoding=\"utf-8\") as f:\n",
    "            text_content = f.read()\n",
    "        texts.append({\"id\": text_id, \"text\": text_content})"
   ]
  },
  {
   "cell_type": "code",
   "execution_count": 37,
   "metadata": {},
   "outputs": [],
   "source": [
    "metadados = []\n",
    "texts_path = 'D:\\\\Rafael\\\\MBA\\\\Fake.br-Corpus-master\\\\Fake.br-Corpus-master\\\\full_texts\\\\true-meta-information'\n",
    "for file_name in os.listdir(texts_path):\n",
    "    if file_name.endswith(\".txt\"):  # Garantir que só processa arquivos de texto\n",
    "        text_id = int(file_name.split(\"-\")[0])  # Extrair o ID do texto (antes do .txt)\n",
    "        file_path = os.path.join(texts_path, file_name)\n",
    "        with open(file_path, \"r\", encoding=\"utf-8\") as f:\n",
    "            lines = f.readlines()\n",
    "            \n",
    "            # Separar os metadados e o texto\n",
    "            metadata_values = [line.strip() for line in lines[:len(metadata_columns)]]\n",
    "            text_id = int(file_name.split(\"-\")[0])\n",
    "            \n",
    "            # Adicionar ao conjunto de dados\n",
    "            entry = {col: val for col, val in zip(metadata_columns, metadata_values)}\n",
    "            entry[\"id\"] = text_id\n",
    "            metadados.append(entry)"
   ]
  },
  {
   "cell_type": "code",
   "execution_count": 38,
   "metadata": {},
   "outputs": [],
   "source": [
    "metadados_df = pd.DataFrame(metadados)\n",
    "df_texts = pd.DataFrame(texts)"
   ]
  },
  {
   "cell_type": "code",
   "execution_count": 39,
   "metadata": {},
   "outputs": [],
   "source": [
    "df_true = df_texts.merge(metadados_df, on ='id')"
   ]
  },
  {
   "cell_type": "code",
   "execution_count": 1,
   "metadata": {},
   "outputs": [
    {
     "ename": "NameError",
     "evalue": "name 'df_true' is not defined",
     "output_type": "error",
     "traceback": [
      "\u001b[1;31m---------------------------------------------------------------------------\u001b[0m",
      "\u001b[1;31mNameError\u001b[0m                                 Traceback (most recent call last)",
      "Cell \u001b[1;32mIn[1], line 1\u001b[0m\n\u001b[1;32m----> 1\u001b[0m \u001b[43mdf_true\u001b[49m\n",
      "\u001b[1;31mNameError\u001b[0m: name 'df_true' is not defined"
     ]
    }
   ],
   "source": [
    "df_true"
   ]
  },
  {
   "cell_type": "code",
   "execution_count": 40,
   "metadata": {},
   "outputs": [],
   "source": [
    "df_true.sample(200, random_state= 13).to_csv('bases_externas/truebr.csv', index=False)"
   ]
  }
 ],
 "metadata": {
  "kernelspec": {
   "display_name": ".venv",
   "language": "python",
   "name": "python3"
  },
  "language_info": {
   "codemirror_mode": {
    "name": "ipython",
    "version": 3
   },
   "file_extension": ".py",
   "mimetype": "text/x-python",
   "name": "python",
   "nbconvert_exporter": "python",
   "pygments_lexer": "ipython3",
   "version": "3.13.1"
  }
 },
 "nbformat": 4,
 "nbformat_minor": 2
}
